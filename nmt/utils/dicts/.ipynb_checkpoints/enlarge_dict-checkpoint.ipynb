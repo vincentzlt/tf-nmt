{
 "cells": [
  {
   "cell_type": "code",
   "execution_count": 1,
   "metadata": {
    "collapsed": false
   },
   "outputs": [],
   "source": [
    "import os,sys\n",
    "import pickle\n",
    "from collections import Counter\n",
    "from tqdm import tqdm"
   ]
  },
  {
   "cell_type": "code",
   "execution_count": 2,
   "metadata": {
    "collapsed": true
   },
   "outputs": [],
   "source": [
    "old_comp_dict=pickle.load(open('./comp_dict_1.pkl','rb'))\n",
    "old_stroke_dict=pickle.load(open('./stroke_dict_1.pkl','rb'))"
   ]
  },
  {
   "cell_type": "code",
   "execution_count": 3,
   "metadata": {
    "collapsed": false,
    "deletable": true,
    "editable": true
   },
   "outputs": [],
   "source": [
    "char_comp_dict={old_comp_dict[s]:s  for s in old_comp_dict}\n",
    "char_stroke_dict={old_stroke_dict[s]:s  for s in old_stroke_dict}"
   ]
  },
  {
   "cell_type": "code",
   "execution_count": 4,
   "metadata": {
    "collapsed": false
   },
   "outputs": [
    {
     "data": {
      "text/plain": [
       "['訖', '宝', '𡃊', '𪎨', '𨛋', '碈', '𥍡', '饲', 'ꑲ', '釷']"
      ]
     },
     "execution_count": 4,
     "metadata": {},
     "output_type": "execute_result"
    },
    {
     "data": {
      "text/plain": [
       "['侺个丈', '事亭丆', '乷但乫丆业仑', '中丁仮乒亊亼亼', '侮亦', '伣仰仑', '佡佋', '举剗下丁乷', 'ꑲ', '俖乣']"
      ]
     },
     "execution_count": 4,
     "metadata": {},
     "output_type": "execute_result"
    },
    {
     "data": {
      "text/plain": [
       "['丩下下下丂個下丟下倔',\n",
       " '丩丩倀下下丂下丩',\n",
       " '丂俿下丟下丂丟丩下丠倏丩下倃丂個下下',\n",
       " '丠个下丠個下下丂倆丩下丠下丂丠倃下丂丠倃',\n",
       " '丂個下下下丂丌倝丂',\n",
       " '下丟丂個下丟倅下懶丂個下下',\n",
       " '倁丩倀倆丟丟丂個下下',\n",
       " '丟倀剗個下丂俿下',\n",
       " 'ꑲ',\n",
       " '丟个下下丂丩丫丌下丂下_2']"
      ]
     },
     "execution_count": 4,
     "metadata": {},
     "output_type": "execute_result"
    }
   ],
   "source": [
    "chars,comps,strokes=[],[],[]\n",
    "for w in char_comp_dict:\n",
    "    chars.append(w)\n",
    "    comps.append(char_comp_dict[w])\n",
    "    strokes.append(char_stroke_dict[w])\n",
    "    \n",
    "chars[:10]\n",
    "comps[:10]\n",
    "strokes[:10]\n",
    "\n",
    "chars_set=set(chars)\n",
    "comps_set=set(comps)\n",
    "strokes_set=set(strokes)"
   ]
  },
  {
   "cell_type": "code",
   "execution_count": 5,
   "metadata": {
    "collapsed": false
   },
   "outputs": [],
   "source": [
    "mecab_vocab_list=set(w for l in open('/work/vincentzlt/tf-nmt/data_2/mecab-jieba/train.jp') for w in l.split())\n",
    "jieba_vocab_list=set(w for l in open('/work/vincentzlt/tf-nmt/data_2/mecab-jieba/train.cn') for w in l.split())"
   ]
  },
  {
   "cell_type": "code",
   "execution_count": 6,
   "metadata": {
    "collapsed": false
   },
   "outputs": [],
   "source": [
    "def w2seq(w,trans_dict):\n",
    "    assert type(w)==str\n",
    "    return ''.join(trans_dict[c] for c in w)"
   ]
  },
  {
   "cell_type": "code",
   "execution_count": 7,
   "metadata": {
    "collapsed": false
   },
   "outputs": [
    {
     "name": "stderr",
     "output_type": "stream",
     "text": [
      "100%|██████████| 153235/153235 [00:01<00:00, 126775.98it/s]\n"
     ]
    }
   ],
   "source": [
    "for w in tqdm(mecab_vocab_list):\n",
    "    if not w in chars_set:\n",
    "        chars.append(w)\n",
    "        comp=w2seq(w,char_comp_dict)\n",
    "        stroke=w2seq(w,char_stroke_dict)\n",
    "        \n",
    "        if not comp in comps_set:\n",
    "            comps.append(comp)\n",
    "        else:\n",
    "            idx=1\n",
    "            while True:\n",
    "                if not '{}_{}'.format(comp,idx) in comps_set:\n",
    "                    new_comp='{}_{}'.format(comp,idx)\n",
    "                    break\n",
    "                else:\n",
    "                    idx+=1\n",
    "            comps.append(new_comp)\n",
    "        \n",
    "        if not stroke in strokes_set:\n",
    "            strokes.append(stroke)\n",
    "        else:\n",
    "            idx=1\n",
    "            while True:\n",
    "                if not '{}_{}'.format(stroke,idx) in strokes_set:\n",
    "                    new_stroke='{}_{}'.format(stroke,idx)\n",
    "                    break\n",
    "                else:\n",
    "                    idx+=1\n",
    "            strokes.append(new_stroke)"
   ]
  },
  {
   "cell_type": "code",
   "execution_count": 11,
   "metadata": {
    "collapsed": false
   },
   "outputs": [
    {
     "name": "stderr",
     "output_type": "stream",
     "text": [
      "100%|██████████| 246983/246983 [00:01<00:00, 126125.13it/s]\n"
     ]
    }
   ],
   "source": [
    "for w in tqdm(jieba_vocab_list):\n",
    "    if not w in chars_set:\n",
    "        chars.append(w)\n",
    "        comp=w2seq(w,char_comp_dict)\n",
    "        stroke=w2seq(w,char_stroke_dict)\n",
    "        \n",
    "        if not comp in comps_set:\n",
    "            comps.append(comp)\n",
    "        else:\n",
    "            idx=1\n",
    "            while True:\n",
    "                if not '{}_{}'.format(comp,idx) in comps_set:\n",
    "                    new_comp='{}_{}'.format(comp,idx)\n",
    "                    break\n",
    "                else:\n",
    "                    idx+=1\n",
    "            comps.append(new_comp)\n",
    "        \n",
    "        if not stroke in strokes_set:\n",
    "            strokes.append(stroke)\n",
    "        else:\n",
    "            idx=1\n",
    "            while True:\n",
    "                if not '{}_{}'.format(stroke,idx) in strokes_set:\n",
    "                    new_stroke='{}_{}'.format(stroke,idx)\n",
    "                    break\n",
    "                else:\n",
    "                    idx+=1\n",
    "            strokes.append(new_stroke)"
   ]
  },
  {
   "cell_type": "code",
   "execution_count": 14,
   "metadata": {
    "collapsed": false
   },
   "outputs": [],
   "source": [
    "comp_dict={comps[i]:chars[i] for i in range(len(chars))}\n",
    "stroke_dict={strokes[i]:chars[i] for i in range(len(chars))}"
   ]
  },
  {
   "cell_type": "code",
   "execution_count": 17,
   "metadata": {
    "collapsed": false
   },
   "outputs": [],
   "source": [
    "pickle.dump(comp_dict,open('comp_dict.pkl','wb'))\n",
    "pickle.dump(stroke_dict,open('stroke_dict.pkl','wb'))"
   ]
  }
 ],
 "metadata": {
  "kernelspec": {
   "display_name": "Python 3",
   "language": "python",
   "name": "python3"
  },
  "language_info": {
   "codemirror_mode": {
    "name": "ipython",
    "version": 3
   },
   "file_extension": ".py",
   "mimetype": "text/x-python",
   "name": "python",
   "nbconvert_exporter": "python",
   "pygments_lexer": "ipython3",
   "version": "3.5.2"
  }
 },
 "nbformat": 4,
 "nbformat_minor": 2
}
